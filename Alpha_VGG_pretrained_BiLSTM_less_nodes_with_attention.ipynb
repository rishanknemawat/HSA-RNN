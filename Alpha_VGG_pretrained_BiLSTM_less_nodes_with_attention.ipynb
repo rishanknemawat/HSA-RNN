{
  "nbformat": 4,
  "nbformat_minor": 0,
  "metadata": {
    "colab": {
      "name": "Alpha_VGG_pretrained_BiLSTM_less_nodes_with_attention.ipynb",
      "provenance": [],
      "collapsed_sections": [],
      "machine_shape": "hm"
    },
    "kernelspec": {
      "name": "python3",
      "display_name": "Python 3"
    },
    "accelerator": "GPU"
  },
  "cells": [
    {
      "cell_type": "markdown",
      "metadata": {
        "id": "wFSO0HGQVUf6"
      },
      "source": [
        "Mounting drive to Load Data and checking for GPU support"
      ]
    },
    {
      "cell_type": "code",
      "metadata": {
        "id": "rKJIeaMXbX-W",
        "colab": {
          "base_uri": "https://localhost:8080/",
          "height": 34
        },
        "outputId": "9d488142-9d5f-4245-da70-39c3757554ac"
      },
      "source": [
        "from google.colab import drive\n",
        "drive.mount('/content/drive')"
      ],
      "execution_count": null,
      "outputs": [
        {
          "output_type": "stream",
          "text": [
            "Mounted at /content/drive\n"
          ],
          "name": "stdout"
        }
      ]
    },
    {
      "cell_type": "code",
      "metadata": {
        "id": "qUBSEnXjOhqQ",
        "colab": {
          "base_uri": "https://localhost:8080/",
          "height": 34
        },
        "outputId": "0f7d144a-d3e6-499a-d931-479d6b83d88c"
      },
      "source": [
        "import tensorflow as tf\n",
        "device_name = tf.test.gpu_device_name()\n",
        "if device_name != '/device:GPU:0':\n",
        "  raise SystemError('GPU device not found')\n",
        "print('Found GPU at: {}'.format(device_name))"
      ],
      "execution_count": null,
      "outputs": [
        {
          "output_type": "stream",
          "text": [
            "Found GPU at: /device:GPU:0\n"
          ],
          "name": "stdout"
        }
      ]
    },
    {
      "cell_type": "markdown",
      "metadata": {
        "id": "udEdEL6FVfeJ"
      },
      "source": [
        "Pre-importing some required libraries (others will be imported as and when required further)"
      ]
    },
    {
      "cell_type": "code",
      "metadata": {
        "id": "l2FFtopteBBT"
      },
      "source": [
        "import cv2     # for capturing videos\n",
        "import matplotlib.pyplot as plt    # for plotting the images\n",
        "import pandas as pd\n",
        "from keras.preprocessing import image   # for preprocessing the images\n",
        "import numpy as np    # for mathematical operations\n",
        "from keras.utils import np_utils\n",
        "from skimage.transform import resize   # for resizing images\n",
        "import os"
      ],
      "execution_count": null,
      "outputs": []
    },
    {
      "cell_type": "markdown",
      "metadata": {
        "id": "_pG9ZstZxNI2"
      },
      "source": [
        "DATA PREPROCESSING (X:total_no_of_frames_of_50vids x 240 x240 and Y: total_no_of_frames,1)"
      ]
    },
    {
      "cell_type": "markdown",
      "metadata": {
        "id": "SBTvXwfJUytQ"
      },
      "source": [
        "Preprocessing Y/Label Data"
      ]
    },
    {
      "cell_type": "code",
      "metadata": {
        "id": "DgYapZvSMkQV"
      },
      "source": [
        "#%cd /content/drive/Shared\\ drives/samsung/video_summarization/"
      ],
      "execution_count": null,
      "outputs": []
    },
    {
      "cell_type": "code",
      "metadata": {
        "id": "I6qmksmMfeNT"
      },
      "source": [
        "#df = pd.read_csv(\"HSA-RNN/TvSum/ydata-tvsum50-anno.tsv\", header=None,error_bad_lines=False, sep=\"\\t\")\n",
        "df = pd.read_csv(\"/content/drive/My Drive/HSA-RNN/TvSum/ydata-tvsum50-anno.tsv\", header=None,error_bad_lines=False, sep=\"\\t\")\n",
        "df_edit = pd.DataFrame()\n",
        "\n",
        "for i in range(50):\n",
        "    df_edit = df_edit.append(df.loc[i*20+1],ignore_index=True)\n",
        "    \n",
        "df_edit= df_edit.sort_values(0).iloc[0:7]\n",
        "df_edit=df_edit.reset_index(drop=True)"
      ],
      "execution_count": null,
      "outputs": []
    },
    {
      "cell_type": "code",
      "metadata": {
        "id": "EdD-10rFhE8H",
        "colab": {
          "base_uri": "https://localhost:8080/",
          "height": 254
        },
        "outputId": "5be59d18-bdd8-4267-fdcc-cf8ee5f0cf48"
      },
      "source": [
        "df_edit"
      ],
      "execution_count": null,
      "outputs": [
        {
          "output_type": "execute_result",
          "data": {
            "text/html": [
              "<div>\n",
              "<style scoped>\n",
              "    .dataframe tbody tr th:only-of-type {\n",
              "        vertical-align: middle;\n",
              "    }\n",
              "\n",
              "    .dataframe tbody tr th {\n",
              "        vertical-align: top;\n",
              "    }\n",
              "\n",
              "    .dataframe thead th {\n",
              "        text-align: right;\n",
              "    }\n",
              "</style>\n",
              "<table border=\"1\" class=\"dataframe\">\n",
              "  <thead>\n",
              "    <tr style=\"text-align: right;\">\n",
              "      <th></th>\n",
              "      <th>0</th>\n",
              "      <th>1</th>\n",
              "      <th>2</th>\n",
              "    </tr>\n",
              "  </thead>\n",
              "  <tbody>\n",
              "    <tr>\n",
              "      <th>0</th>\n",
              "      <td>-esJrBWj2d8</td>\n",
              "      <td>DS</td>\n",
              "      <td>2,2,2,2,2,2,2,2,2,2,2,2,2,2,2,2,2,2,2,2,2,2,2,...</td>\n",
              "    </tr>\n",
              "    <tr>\n",
              "      <th>1</th>\n",
              "      <td>0tmA_C6XwfM</td>\n",
              "      <td>GA</td>\n",
              "      <td>1,1,1,1,1,1,1,1,1,1,1,1,1,1,1,1,1,1,1,1,1,1,1,...</td>\n",
              "    </tr>\n",
              "    <tr>\n",
              "      <th>2</th>\n",
              "      <td>37rzWOQsNIw</td>\n",
              "      <td>MS</td>\n",
              "      <td>5,5,5,5,5,5,5,5,5,5,5,5,5,5,5,5,5,5,5,5,5,5,5,...</td>\n",
              "    </tr>\n",
              "    <tr>\n",
              "      <th>3</th>\n",
              "      <td>3eYKfiOEJNs</td>\n",
              "      <td>GA</td>\n",
              "      <td>1,1,1,1,1,1,1,1,1,1,1,1,1,1,1,1,1,1,1,1,1,1,1,...</td>\n",
              "    </tr>\n",
              "    <tr>\n",
              "      <th>4</th>\n",
              "      <td>4wU_LUjG5Ic</td>\n",
              "      <td>PR</td>\n",
              "      <td>1,1,1,1,1,1,1,1,1,1,1,1,1,1,1,1,1,1,1,1,1,1,1,...</td>\n",
              "    </tr>\n",
              "    <tr>\n",
              "      <th>5</th>\n",
              "      <td>91IHQYk1IQM</td>\n",
              "      <td>PR</td>\n",
              "      <td>1,1,1,1,1,1,1,1,1,1,1,1,1,1,1,1,1,1,1,1,1,1,1,...</td>\n",
              "    </tr>\n",
              "    <tr>\n",
              "      <th>6</th>\n",
              "      <td>98MoyGZKHXc</td>\n",
              "      <td>VT</td>\n",
              "      <td>1,1,1,1,1,1,1,1,1,1,1,1,1,1,1,1,1,1,1,1,1,1,1,...</td>\n",
              "    </tr>\n",
              "  </tbody>\n",
              "</table>\n",
              "</div>"
            ],
            "text/plain": [
              "             0   1                                                  2\n",
              "0  -esJrBWj2d8  DS  2,2,2,2,2,2,2,2,2,2,2,2,2,2,2,2,2,2,2,2,2,2,2,...\n",
              "1  0tmA_C6XwfM  GA  1,1,1,1,1,1,1,1,1,1,1,1,1,1,1,1,1,1,1,1,1,1,1,...\n",
              "2  37rzWOQsNIw  MS  5,5,5,5,5,5,5,5,5,5,5,5,5,5,5,5,5,5,5,5,5,5,5,...\n",
              "3  3eYKfiOEJNs  GA  1,1,1,1,1,1,1,1,1,1,1,1,1,1,1,1,1,1,1,1,1,1,1,...\n",
              "4  4wU_LUjG5Ic  PR  1,1,1,1,1,1,1,1,1,1,1,1,1,1,1,1,1,1,1,1,1,1,1,...\n",
              "5  91IHQYk1IQM  PR  1,1,1,1,1,1,1,1,1,1,1,1,1,1,1,1,1,1,1,1,1,1,1,...\n",
              "6  98MoyGZKHXc  VT  1,1,1,1,1,1,1,1,1,1,1,1,1,1,1,1,1,1,1,1,1,1,1,..."
            ]
          },
          "metadata": {
            "tags": []
          },
          "execution_count": 6
        }
      ]
    },
    {
      "cell_type": "code",
      "metadata": {
        "id": "N9_s0-mWlBrb"
      },
      "source": [
        "new_scores = []\n",
        "for i in range(df_edit.shape[0]):\n",
        "    temp = df_edit[2][i].split(',')\n",
        "    for j in range(len(temp)):\n",
        "        new_scores.append(int(temp[j]))\n",
        "    df_edit[2][i] = new_scores\n",
        "    new_scores = []"
      ],
      "execution_count": null,
      "outputs": []
    },
    {
      "cell_type": "code",
      "metadata": {
        "id": "G2x3sNlzmVU6",
        "colab": {
          "base_uri": "https://localhost:8080/",
          "height": 195
        },
        "outputId": "83518fe4-03c6-4905-dd21-ea9ea1401195"
      },
      "source": [
        "df_edit.head()"
      ],
      "execution_count": null,
      "outputs": [
        {
          "output_type": "execute_result",
          "data": {
            "text/html": [
              "<div>\n",
              "<style scoped>\n",
              "    .dataframe tbody tr th:only-of-type {\n",
              "        vertical-align: middle;\n",
              "    }\n",
              "\n",
              "    .dataframe tbody tr th {\n",
              "        vertical-align: top;\n",
              "    }\n",
              "\n",
              "    .dataframe thead th {\n",
              "        text-align: right;\n",
              "    }\n",
              "</style>\n",
              "<table border=\"1\" class=\"dataframe\">\n",
              "  <thead>\n",
              "    <tr style=\"text-align: right;\">\n",
              "      <th></th>\n",
              "      <th>0</th>\n",
              "      <th>1</th>\n",
              "      <th>2</th>\n",
              "    </tr>\n",
              "  </thead>\n",
              "  <tbody>\n",
              "    <tr>\n",
              "      <th>0</th>\n",
              "      <td>-esJrBWj2d8</td>\n",
              "      <td>DS</td>\n",
              "      <td>[2, 2, 2, 2, 2, 2, 2, 2, 2, 2, 2, 2, 2, 2, 2, ...</td>\n",
              "    </tr>\n",
              "    <tr>\n",
              "      <th>1</th>\n",
              "      <td>0tmA_C6XwfM</td>\n",
              "      <td>GA</td>\n",
              "      <td>[1, 1, 1, 1, 1, 1, 1, 1, 1, 1, 1, 1, 1, 1, 1, ...</td>\n",
              "    </tr>\n",
              "    <tr>\n",
              "      <th>2</th>\n",
              "      <td>37rzWOQsNIw</td>\n",
              "      <td>MS</td>\n",
              "      <td>[5, 5, 5, 5, 5, 5, 5, 5, 5, 5, 5, 5, 5, 5, 5, ...</td>\n",
              "    </tr>\n",
              "    <tr>\n",
              "      <th>3</th>\n",
              "      <td>3eYKfiOEJNs</td>\n",
              "      <td>GA</td>\n",
              "      <td>[1, 1, 1, 1, 1, 1, 1, 1, 1, 1, 1, 1, 1, 1, 1, ...</td>\n",
              "    </tr>\n",
              "    <tr>\n",
              "      <th>4</th>\n",
              "      <td>4wU_LUjG5Ic</td>\n",
              "      <td>PR</td>\n",
              "      <td>[1, 1, 1, 1, 1, 1, 1, 1, 1, 1, 1, 1, 1, 1, 1, ...</td>\n",
              "    </tr>\n",
              "  </tbody>\n",
              "</table>\n",
              "</div>"
            ],
            "text/plain": [
              "             0   1                                                  2\n",
              "0  -esJrBWj2d8  DS  [2, 2, 2, 2, 2, 2, 2, 2, 2, 2, 2, 2, 2, 2, 2, ...\n",
              "1  0tmA_C6XwfM  GA  [1, 1, 1, 1, 1, 1, 1, 1, 1, 1, 1, 1, 1, 1, 1, ...\n",
              "2  37rzWOQsNIw  MS  [5, 5, 5, 5, 5, 5, 5, 5, 5, 5, 5, 5, 5, 5, 5, ...\n",
              "3  3eYKfiOEJNs  GA  [1, 1, 1, 1, 1, 1, 1, 1, 1, 1, 1, 1, 1, 1, 1, ...\n",
              "4  4wU_LUjG5Ic  PR  [1, 1, 1, 1, 1, 1, 1, 1, 1, 1, 1, 1, 1, 1, 1, ..."
            ]
          },
          "metadata": {
            "tags": []
          },
          "execution_count": 8
        }
      ]
    },
    {
      "cell_type": "code",
      "metadata": {
        "id": "iSJljbHDlFEY",
        "colab": {
          "base_uri": "https://localhost:8080/",
          "height": 34
        },
        "outputId": "6078d578-f149-4f9e-e023-940e55616aa4"
      },
      "source": [
        "len(df_edit[2][6])"
      ],
      "execution_count": null,
      "outputs": [
        {
          "output_type": "execute_result",
          "data": {
            "text/plain": [
              "4688"
            ]
          },
          "metadata": {
            "tags": []
          },
          "execution_count": 9
        }
      ]
    },
    {
      "cell_type": "markdown",
      "metadata": {
        "id": "TkJtw7z9Ur4f"
      },
      "source": [
        "PREPROCESSING IMAGE DATA/X "
      ]
    },
    {
      "cell_type": "code",
      "metadata": {
        "id": "q3Rm5E7IfzMy"
      },
      "source": [
        "DIR = \"/content/drive/My Drive/HSA-RNN/\"\n",
        "#DIR = \"HSA-RNN/\"\n",
        "CATEGORIES = [\"Trial_dataset\"]"
      ],
      "execution_count": null,
      "outputs": []
    },
    {
      "cell_type": "code",
      "metadata": {
        "id": "NN3aYZGaxBHY"
      },
      "source": [
        "column_names = [\"Video_Number\", \"Frame_count\", \"Timestamp\"]\n",
        "Frame_data = pd.DataFrame(columns = column_names)"
      ],
      "execution_count": null,
      "outputs": []
    },
    {
      "cell_type": "code",
      "metadata": {
        "id": "-zrvN1CCf75y",
        "colab": {
          "base_uri": "https://localhost:8080/",
          "height": 140
        },
        "outputId": "5496a972-7689-40bc-a203-91259f92b164"
      },
      "source": [
        "dataset = []\n",
        "vidnum=1\n",
        "for category in CATEGORIES:\n",
        "    path = os.path.join(DIR,category)\n",
        "\n",
        "    for vid in sorted(os.listdir(path)):\n",
        "        try:\n",
        "            cap = cv2.VideoCapture(os.path.join(path,vid))\n",
        "            count = 0\n",
        "            success=1\n",
        "            #frameRate = cap.get(5)#get frame rate\n",
        "            while(success):\n",
        "                #frameId = cap.get(1)#current frame number\t\t\t\t \n",
        "                success, frame = cap.read()\n",
        "                if (success != True):\n",
        "                    break\n",
        "                filename =\"frame%d.jpg\" % count;count+=1\n",
        "                cv2.imwrite(filename, frame)\n",
        "                img_array = cv2.imread(filename, cv2.IMREAD_COLOR)\n",
        "                new_array = cv2.resize(img_array, (224, 224))\n",
        "                dataset.append(new_array)\n",
        "                Frame_data = Frame_data.append({\"Video_Number\": vidnum, \"Frame_count\": len(dataset), \"Timestamp\": cap.get(cv2.CAP_PROP_POS_MSEC) / 1000 }, ignore_index=True)\n",
        "                os.remove(filename)\n",
        "            vidnum+=1\n",
        "            print(len(dataset))\n",
        "            cap.release()\n",
        "        except Exception as e:\n",
        "            print(e)\n",
        "            pass"
      ],
      "execution_count": null,
      "outputs": [
        {
          "output_type": "stream",
          "text": [
            "6912\n",
            "10444\n",
            "16186\n",
            "21039\n",
            "25044\n",
            "28356\n",
            "33044\n"
          ],
          "name": "stdout"
        }
      ]
    },
    {
      "cell_type": "markdown",
      "metadata": {
        "id": "0Vq1o3KvxF1D"
      },
      "source": [
        "TESTING X/IMAGE DATA PREPROCESSING SUCCESS "
      ]
    },
    {
      "cell_type": "code",
      "metadata": {
        "id": "8cCgMPWfq8x6",
        "colab": {
          "base_uri": "https://localhost:8080/",
          "height": 286
        },
        "outputId": "8b9f531b-74dd-4ec7-e59e-d8cc0e7b9d0d"
      },
      "source": [
        "plt.imshow(dataset[30000])"
      ],
      "execution_count": null,
      "outputs": [
        {
          "output_type": "execute_result",
          "data": {
            "text/plain": [
              "<matplotlib.image.AxesImage at 0x7fb1de00e2e8>"
            ]
          },
          "metadata": {
            "tags": []
          },
          "execution_count": 13
        },
        {
          "output_type": "display_data",
          "data": {
            "image/png": "[encoded data removed]",
            "text/plain": [
              "<Figure size 432x288 with 1 Axes>"
            ]
          },
          "metadata": {
            "tags": [],
            "needs_background": "light"
          }
        }
      ]
    },
    {
      "cell_type": "code",
      "metadata": {
        "id": "W5oOZAt3OrW6"
      },
      "source": [
        "sum_frames=len(dataset)"
      ],
      "execution_count": null,
      "outputs": []
    },
    {
      "cell_type": "code",
      "metadata": {
        "id": "x-r8p41snB7M",
        "colab": {
          "base_uri": "https://localhost:8080/",
          "height": 34
        },
        "outputId": "1cb4875c-826f-4c19-f875-1e9cc45e2ce4"
      },
      "source": [
        "print(sum_frames)"
      ],
      "execution_count": null,
      "outputs": [
        {
          "output_type": "stream",
          "text": [
            "33044\n"
          ],
          "name": "stdout"
        }
      ]
    },
    {
      "cell_type": "markdown",
      "metadata": {
        "id": "lhkJqvyArZbD"
      },
      "source": [
        "Padding data (NOT USING)"
      ]
    },
    {
      "cell_type": "code",
      "metadata": {
        "id": "fBx4qY_MrYGL"
      },
      "source": [
        "#from keras.preprocessing.sequence import pad_sequences\n",
        "#padded_frames = pad_sequences(dataset)"
      ],
      "execution_count": null,
      "outputs": []
    },
    {
      "cell_type": "code",
      "metadata": {
        "id": "mPH7ApOww-WU"
      },
      "source": [
        "#len(padded_frames[0])"
      ],
      "execution_count": null,
      "outputs": []
    },
    {
      "cell_type": "code",
      "metadata": {
        "id": "TNdGJ8oaw_oX"
      },
      "source": [
        "#len(padded_frames[4])"
      ],
      "execution_count": null,
      "outputs": []
    },
    {
      "cell_type": "markdown",
      "metadata": {
        "id": "g35ePzKew9eW"
      },
      "source": [
        "X/Image data DATA TO NUMPY ARRAY\n"
      ]
    },
    {
      "cell_type": "code",
      "metadata": {
        "id": "FTfaqM9emoRU"
      },
      "source": [
        "padded_frames=dataset"
      ],
      "execution_count": null,
      "outputs": []
    },
    {
      "cell_type": "code",
      "metadata": {
        "id": "QwxAIfaOVkxv",
        "colab": {
          "base_uri": "https://localhost:8080/",
          "height": 34
        },
        "outputId": "55278860-7b23-403c-9043-4fa4f389de59"
      },
      "source": [
        "padded_frames = np.array(padded_frames)\n",
        "print('done')"
      ],
      "execution_count": null,
      "outputs": [
        {
          "output_type": "stream",
          "text": [
            "done\n"
          ],
          "name": "stdout"
        }
      ]
    },
    {
      "cell_type": "markdown",
      "metadata": {
        "id": "F0LKUas-kD3M"
      },
      "source": [
        "Divide test and train"
      ]
    },
    {
      "cell_type": "code",
      "metadata": {
        "id": "rDVCj59wa_vs"
      },
      "source": [
        "padded_frames_train=padded_frames[0:25044]"
      ],
      "execution_count": null,
      "outputs": []
    },
    {
      "cell_type": "code",
      "metadata": {
        "id": "za4R42RGktIX",
        "colab": {
          "base_uri": "https://localhost:8080/",
          "height": 34
        },
        "outputId": "23cea0f8-8c6e-4d04-b753-d8ae23745934"
      },
      "source": [
        "padded_frames_train.shape"
      ],
      "execution_count": null,
      "outputs": [
        {
          "output_type": "execute_result",
          "data": {
            "text/plain": [
              "(25044, 224, 224, 3)"
            ]
          },
          "metadata": {
            "tags": []
          },
          "execution_count": 22
        }
      ]
    },
    {
      "cell_type": "code",
      "metadata": {
        "id": "QK_aunz2k1Aq"
      },
      "source": [
        "padded_frames_test=padded_frames[25044:]"
      ],
      "execution_count": null,
      "outputs": []
    },
    {
      "cell_type": "code",
      "metadata": {
        "id": "qMGf8mhjk_dm",
        "colab": {
          "base_uri": "https://localhost:8080/",
          "height": 34
        },
        "outputId": "d695a95c-1a6b-40fb-c755-f7ec291a7d82"
      },
      "source": [
        "padded_frames_test.shape"
      ],
      "execution_count": null,
      "outputs": [
        {
          "output_type": "execute_result",
          "data": {
            "text/plain": [
              "(8000, 224, 224, 3)"
            ]
          },
          "metadata": {
            "tags": []
          },
          "execution_count": 24
        }
      ]
    },
    {
      "cell_type": "markdown",
      "metadata": {
        "id": "HdwtkvRHUUoL"
      },
      "source": [
        "Preprocessing Y/Labels data"
      ]
    },
    {
      "cell_type": "code",
      "metadata": {
        "id": "zu0clKVWtU7B"
      },
      "source": [
        "Y_padded= df_edit[2]"
      ],
      "execution_count": null,
      "outputs": []
    },
    {
      "cell_type": "code",
      "metadata": {
        "id": "wekLsGfcqxpj",
        "colab": {
          "base_uri": "https://localhost:8080/",
          "height": 34
        },
        "outputId": "ee25dc08-ec15-4e13-9660-5d10a17f2ec9"
      },
      "source": [
        "Y_padded[1][1906]"
      ],
      "execution_count": null,
      "outputs": [
        {
          "output_type": "execute_result",
          "data": {
            "text/plain": [
              "2"
            ]
          },
          "metadata": {
            "tags": []
          },
          "execution_count": 26
        }
      ]
    },
    {
      "cell_type": "code",
      "metadata": {
        "id": "dWx_GgIBZpwu"
      },
      "source": [
        "Y_long=[]\n",
        "for j in range(7):\n",
        "  for k in Y_padded[j]:\n",
        "    Y_long.append(k)"
      ],
      "execution_count": null,
      "outputs": []
    },
    {
      "cell_type": "code",
      "metadata": {
        "id": "WiRhnrb0rTwJ",
        "colab": {
          "base_uri": "https://localhost:8080/",
          "height": 52
        },
        "outputId": "b0f2a4e7-a369-442f-9baf-3c1946fddcb7"
      },
      "source": [
        "print(len(Y_long))\n",
        "Y_long = np.array(Y_long)\n",
        "print(Y_long.shape)"
      ],
      "execution_count": null,
      "outputs": [
        {
          "output_type": "stream",
          "text": [
            "33044\n",
            "(33044,)\n"
          ],
          "name": "stdout"
        }
      ]
    },
    {
      "cell_type": "code",
      "metadata": {
        "id": "mkn1tanOsgRD",
        "colab": {
          "base_uri": "https://localhost:8080/",
          "height": 34
        },
        "outputId": "f13e67ce-53a7-406e-9398-ef13690aa6b3"
      },
      "source": [
        "Y_long.shape"
      ],
      "execution_count": null,
      "outputs": [
        {
          "output_type": "execute_result",
          "data": {
            "text/plain": [
              "(33044,)"
            ]
          },
          "metadata": {
            "tags": []
          },
          "execution_count": 29
        }
      ]
    },
    {
      "cell_type": "markdown",
      "metadata": {
        "id": "E6c5vldyUMIO"
      },
      "source": [
        "One Hot Encoding the Y data "
      ]
    },
    {
      "cell_type": "code",
      "metadata": {
        "id": "593EQfqO-Rrb",
        "colab": {
          "base_uri": "https://localhost:8080/",
          "height": 34
        },
        "outputId": "e42b685e-7340-496d-dcbe-09b94d68b6e2"
      },
      "source": [
        "from sklearn.preprocessing import OneHotEncoder\n",
        "onehot_encoder = OneHotEncoder(sparse=False)\n",
        "Y_long = Y_long.reshape(len(Y_long), 1)\n",
        "Y_long = onehot_encoder.fit_transform(Y_long)\n",
        "print(Y_long.shape)"
      ],
      "execution_count": null,
      "outputs": [
        {
          "output_type": "stream",
          "text": [
            "(33044, 5)\n"
          ],
          "name": "stdout"
        }
      ]
    },
    {
      "cell_type": "code",
      "metadata": {
        "id": "oL8cVqhw0V33",
        "colab": {
          "base_uri": "https://localhost:8080/",
          "height": 34
        },
        "outputId": "b65df8be-53ee-4f95-e58b-48cf7afbc959"
      },
      "source": [
        "Y_padded_train=Y_long[0:25044]\n",
        "print(Y_padded_train.shape)"
      ],
      "execution_count": null,
      "outputs": [
        {
          "output_type": "stream",
          "text": [
            "(25044, 5)\n"
          ],
          "name": "stdout"
        }
      ]
    },
    {
      "cell_type": "code",
      "metadata": {
        "id": "S_PK9szRlUve",
        "colab": {
          "base_uri": "https://localhost:8080/",
          "height": 34
        },
        "outputId": "01f071f3-bf7b-4ef8-ad3d-a8982b28dd83"
      },
      "source": [
        "Y_padded_test=Y_long[25044:]\n",
        "print(Y_padded_test.shape)"
      ],
      "execution_count": null,
      "outputs": [
        {
          "output_type": "stream",
          "text": [
            "(8000, 5)\n"
          ],
          "name": "stdout"
        }
      ]
    },
    {
      "cell_type": "markdown",
      "metadata": {
        "id": "-2_W2UfmZoLM"
      },
      "source": [
        "Extracting image features from VGG pretrained Model"
      ]
    },
    {
      "cell_type": "code",
      "metadata": {
        "id": "BIYwuj09ZrJ2"
      },
      "source": [
        "from keras.applications.vgg16 import VGG16\n",
        "from tensorflow.keras.models import Sequential\n",
        "from tensorflow.keras.layers import LSTM, Bidirectional, Dense, Flatten, Input, GRU, Attention, Concatenate,TimeDistributed\n",
        "from tensorflow.keras.optimizers import RMSprop"
      ],
      "execution_count": null,
      "outputs": []
    },
    {
      "cell_type": "code",
      "metadata": {
        "id": "dmmGgupFZt2u",
        "colab": {
          "base_uri": "https://localhost:8080/",
          "height": 52
        },
        "outputId": "31844be5-98d7-4051-dc54-44e28611037b"
      },
      "source": [
        "conv_base = VGG16(weights='imagenet', \n",
        "                  include_top=False,\n",
        "                  input_shape=(224, 224, 3))"
      ],
      "execution_count": null,
      "outputs": [
        {
          "output_type": "stream",
          "text": [
            "Downloading data from https://storage.googleapis.com/tensorflow/keras-applications/vgg16/vgg16_weights_tf_dim_ordering_tf_kernels_notop.h5\n",
            "58892288/58889256 [==============================] - 2s 0us/step\n"
          ],
          "name": "stdout"
        }
      ]
    },
    {
      "cell_type": "code",
      "metadata": {
        "id": "2cVJFLLdPLM7",
        "colab": {
          "base_uri": "https://localhost:8080/",
          "height": 826
        },
        "outputId": "37b25702-fa3d-4a58-fe6f-237a041baf26"
      },
      "source": [
        "conv_base.summary()"
      ],
      "execution_count": null,
      "outputs": [
        {
          "output_type": "stream",
          "text": [
            "Model: \"vgg16\"\n",
            "_________________________________________________________________\n",
            "Layer (type)                 Output Shape              Param #   \n",
            "=================================================================\n",
            "input_1 (InputLayer)         [(None, 224, 224, 3)]     0         \n",
            "_________________________________________________________________\n",
            "block1_conv1 (Conv2D)        (None, 224, 224, 64)      1792      \n",
            "_________________________________________________________________\n",
            "block1_conv2 (Conv2D)        (None, 224, 224, 64)      36928     \n",
            "_________________________________________________________________\n",
            "block1_pool (MaxPooling2D)   (None, 112, 112, 64)      0         \n",
            "_________________________________________________________________\n",
            "block2_conv1 (Conv2D)        (None, 112, 112, 128)     73856     \n",
            "_________________________________________________________________\n",
            "block2_conv2 (Conv2D)        (None, 112, 112, 128)     147584    \n",
            "_________________________________________________________________\n",
            "block2_pool (MaxPooling2D)   (None, 56, 56, 128)       0         \n",
            "_________________________________________________________________\n",
            "block3_conv1 (Conv2D)        (None, 56, 56, 256)       295168    \n",
            "_________________________________________________________________\n",
            "block3_conv2 (Conv2D)        (None, 56, 56, 256)       590080    \n",
            "_________________________________________________________________\n",
            "block3_conv3 (Conv2D)        (None, 56, 56, 256)       590080    \n",
            "_________________________________________________________________\n",
            "block3_pool (MaxPooling2D)   (None, 28, 28, 256)       0         \n",
            "_________________________________________________________________\n",
            "block4_conv1 (Conv2D)        (None, 28, 28, 512)       1180160   \n",
            "_________________________________________________________________\n",
            "block4_conv2 (Conv2D)        (None, 28, 28, 512)       2359808   \n",
            "_________________________________________________________________\n",
            "block4_conv3 (Conv2D)        (None, 28, 28, 512)       2359808   \n",
            "_________________________________________________________________\n",
            "block4_pool (MaxPooling2D)   (None, 14, 14, 512)       0         \n",
            "_________________________________________________________________\n",
            "block5_conv1 (Conv2D)        (None, 14, 14, 512)       2359808   \n",
            "_________________________________________________________________\n",
            "block5_conv2 (Conv2D)        (None, 14, 14, 512)       2359808   \n",
            "_________________________________________________________________\n",
            "block5_conv3 (Conv2D)        (None, 14, 14, 512)       2359808   \n",
            "_________________________________________________________________\n",
            "block5_pool (MaxPooling2D)   (None, 7, 7, 512)         0         \n",
            "=================================================================\n",
            "Total params: 14,714,688\n",
            "Trainable params: 14,714,688\n",
            "Non-trainable params: 0\n",
            "_________________________________________________________________\n"
          ],
          "name": "stdout"
        }
      ]
    },
    {
      "cell_type": "code",
      "metadata": {
        "id": "q1hrQZ-nPPac"
      },
      "source": [
        "features_extracted = conv_base.predict(padded_frames_train)"
      ],
      "execution_count": null,
      "outputs": []
    },
    {
      "cell_type": "code",
      "metadata": {
        "id": "tAAoPrLdRgGm",
        "colab": {
          "base_uri": "https://localhost:8080/",
          "height": 34
        },
        "outputId": "276baf82-8c0b-4ce4-8271-10ab8d9cd304"
      },
      "source": [
        "features_extracted.shape"
      ],
      "execution_count": null,
      "outputs": [
        {
          "output_type": "execute_result",
          "data": {
            "text/plain": [
              "(25044, 7, 7, 512)"
            ]
          },
          "metadata": {
            "tags": []
          },
          "execution_count": 37
        }
      ]
    },
    {
      "cell_type": "code",
      "metadata": {
        "id": "NNQwZ_jbSFr9"
      },
      "source": [
        "X_train_features_extracted= features_extracted.reshape(25044,7*7,512)"
      ],
      "execution_count": null,
      "outputs": []
    },
    {
      "cell_type": "code",
      "metadata": {
        "id": "I_5tCpqSSUgU",
        "colab": {
          "base_uri": "https://localhost:8080/",
          "height": 34
        },
        "outputId": "3c430aad-a58e-44fd-a8a5-5a2c65768481"
      },
      "source": [
        "X_train_features_extracted.shape"
      ],
      "execution_count": null,
      "outputs": [
        {
          "output_type": "execute_result",
          "data": {
            "text/plain": [
              "(25044, 49, 512)"
            ]
          },
          "metadata": {
            "tags": []
          },
          "execution_count": 39
        }
      ]
    },
    {
      "cell_type": "code",
      "metadata": {
        "id": "Dh6Lo-lE-U56"
      },
      "source": [
        "#conv_base.save_weights(\"/content/drive/My Drive/HSA-RNN/vgg_weights_imgnet.h5\")"
      ],
      "execution_count": null,
      "outputs": []
    },
    {
      "cell_type": "markdown",
      "metadata": {
        "id": "d0Bdf0A07A_J"
      },
      "source": [
        "#Model"
      ]
    },
    {
      "cell_type": "code",
      "metadata": {
        "id": "65C4QBTRf-Vy",
        "colab": {
          "base_uri": "https://localhost:8080/",
          "height": 422
        },
        "outputId": "9d34cc9b-7a6c-433d-a7dc-3fffa72b7d69"
      },
      "source": [
        "encoder_inputs = Input(shape = (49, 512))\n",
        "\n",
        "encoder_BidirectionalLSTM = Bidirectional(LSTM(64, return_sequences = True))\n",
        "encoder_out = encoder_BidirectionalLSTM(encoder_inputs)\n",
        "\n",
        "decoder_BidirectionalLSTM = Bidirectional(LSTM(64, return_sequences = True))\n",
        "decoder_out = decoder_BidirectionalLSTM(encoder_out)\n",
        "\n",
        "attn_layer = Attention(use_scale = True)\n",
        "attn_out =  attn_layer([encoder_out, decoder_out])\n",
        "\n",
        "dense = Dense(128, activation = 'relu')\n",
        "decoder_pred = dense(attn_out)\n",
        "\n",
        "d1= LSTM(64,dropout=0.5)(decoder_pred)\n",
        "\n",
        "d2= Dense(5, activation=\"softmax\")(d1)\n",
        "\n",
        "from tensorflow.keras.models import Model\n",
        "model = Model(inputs = encoder_inputs, outputs = d2)\n",
        "model.compile(loss = 'categorical_crossentropy', optimizer = 'rmsprop', metrics = ['accuracy'])\n",
        "model.summary()"
      ],
      "execution_count": null,
      "outputs": [
        {
          "output_type": "stream",
          "text": [
            "Model: \"functional_1\"\n",
            "__________________________________________________________________________________________________\n",
            "Layer (type)                    Output Shape         Param #     Connected to                     \n",
            "==================================================================================================\n",
            "input_2 (InputLayer)            [(None, 49, 512)]    0                                            \n",
            "__________________________________________________________________________________________________\n",
            "bidirectional (Bidirectional)   (None, 49, 128)      295424      input_2[0][0]                    \n",
            "__________________________________________________________________________________________________\n",
            "bidirectional_1 (Bidirectional) (None, 49, 128)      98816       bidirectional[0][0]              \n",
            "__________________________________________________________________________________________________\n",
            "attention (Attention)           (None, 49, 128)      1           bidirectional[0][0]              \n",
            "                                                                 bidirectional_1[0][0]            \n",
            "__________________________________________________________________________________________________\n",
            "dense (Dense)                   (None, 49, 128)      16512       attention[0][0]                  \n",
            "__________________________________________________________________________________________________\n",
            "lstm_2 (LSTM)                   (None, 64)           49408       dense[0][0]                      \n",
            "__________________________________________________________________________________________________\n",
            "dense_1 (Dense)                 (None, 5)            325         lstm_2[0][0]                     \n",
            "==================================================================================================\n",
            "Total params: 460,486\n",
            "Trainable params: 460,486\n",
            "Non-trainable params: 0\n",
            "__________________________________________________________________________________________________\n"
          ],
          "name": "stdout"
        }
      ]
    },
    {
      "cell_type": "markdown",
      "metadata": {
        "id": "CAhUMuaNS_Fo"
      },
      "source": [
        "FOR MORE EPOCHS USE THIS:\n",
        "initial_learning_rate = 0.00001\n",
        "lr_schedule = tf.keras.optimizers.schedules.ExponentialDecay(\n",
        "    initial_learning_rate,\n",
        "    decay_steps=100000,\n",
        "    decay_rate=0.9,\n",
        "    staircase=True)\n",
        "\n",
        "model.compile(optimizer=tf.keras.optimizers.RMSprop(learning_rate=lr_schedule, rho=0.9,epsilon=1e-05,),\n",
        "              loss='categorical_crossentropy',\n",
        "              metrics=['accuracy'])\n"
      ]
    },
    {
      "cell_type": "code",
      "metadata": {
        "id": "J0xZI0qn6pqq",
        "colab": {
          "base_uri": "https://localhost:8080/",
          "height": 386
        },
        "outputId": "90a10de0-9b05-4d31-9f1b-795aea1ad2c3"
      },
      "source": [
        "model.fit(X_train_features_extracted, Y_padded_train, epochs = 10) #Put epoch value accordingly"
      ],
      "execution_count": null,
      "outputs": [
        {
          "output_type": "stream",
          "text": [
            "Epoch 1/10\n",
            "783/783 [==============================] - 14s 18ms/step - loss: 0.3954 - accuracy: 0.8603\n",
            "Epoch 2/10\n",
            "783/783 [==============================] - 14s 18ms/step - loss: 0.1497 - accuracy: 0.9512\n",
            "Epoch 3/10\n",
            "783/783 [==============================] - 14s 18ms/step - loss: 0.1126 - accuracy: 0.9654\n",
            "Epoch 4/10\n",
            "783/783 [==============================] - 14s 18ms/step - loss: 0.0913 - accuracy: 0.9724\n",
            "Epoch 5/10\n",
            "783/783 [==============================] - 14s 18ms/step - loss: 0.0793 - accuracy: 0.9766\n",
            "Epoch 6/10\n",
            "783/783 [==============================] - 14s 18ms/step - loss: 0.0693 - accuracy: 0.9803\n",
            "Epoch 7/10\n",
            "783/783 [==============================] - 14s 18ms/step - loss: 0.0665 - accuracy: 0.9812\n",
            "Epoch 8/10\n",
            "783/783 [==============================] - 14s 18ms/step - loss: 0.0603 - accuracy: 0.9831\n",
            "Epoch 9/10\n",
            "783/783 [==============================] - 14s 18ms/step - loss: 0.0527 - accuracy: 0.9854\n",
            "Epoch 10/10\n",
            "783/783 [==============================] - 14s 18ms/step - loss: 0.0516 - accuracy: 0.9865\n"
          ],
          "name": "stdout"
        },
        {
          "output_type": "execute_result",
          "data": {
            "text/plain": [
              "<tensorflow.python.keras.callbacks.History at 0x7faf7a03b668>"
            ]
          },
          "metadata": {
            "tags": []
          },
          "execution_count": 42
        }
      ]
    },
    {
      "cell_type": "markdown",
      "metadata": {
        "id": "1YPM3XsZAYeC"
      },
      "source": [
        "Testing"
      ]
    },
    {
      "cell_type": "code",
      "metadata": {
        "id": "DYuVqiJoUH8B"
      },
      "source": [
        "features_extracted_test = conv_base.predict(padded_frames_test)"
      ],
      "execution_count": null,
      "outputs": []
    },
    {
      "cell_type": "code",
      "metadata": {
        "id": "nZUNuslCUhtS"
      },
      "source": [
        "X_test_features_extracted= features_extracted_test.reshape(8000,7*7,512)"
      ],
      "execution_count": null,
      "outputs": []
    },
    {
      "cell_type": "code",
      "metadata": {
        "id": "mhJebFqy62Sh"
      },
      "source": [
        "Y_pred = model.predict(X_test_features_extracted)"
      ],
      "execution_count": null,
      "outputs": []
    },
    {
      "cell_type": "code",
      "metadata": {
        "id": "LCqxBNIhunYe",
        "colab": {
          "base_uri": "https://localhost:8080/",
          "height": 34
        },
        "outputId": "5bcd4c45-7865-4ecd-d0e5-ee271813996d"
      },
      "source": [
        "Y_pred.shape #this should match Y_padded_test.shape "
      ],
      "execution_count": null,
      "outputs": [
        {
          "output_type": "execute_result",
          "data": {
            "text/plain": [
              "(8000, 5)"
            ]
          },
          "metadata": {
            "tags": []
          },
          "execution_count": 46
        }
      ]
    },
    {
      "cell_type": "code",
      "metadata": {
        "id": "TiNSRXY-MIkQ",
        "colab": {
          "base_uri": "https://localhost:8080/",
          "height": 140
        },
        "outputId": "1582d91b-b7ec-4c6c-c450-f19e1607bd8f"
      },
      "source": [
        "Y_padded_test"
      ],
      "execution_count": null,
      "outputs": [
        {
          "output_type": "execute_result",
          "data": {
            "text/plain": [
              "array([[1., 0., 0., 0., 0.],\n",
              "       [1., 0., 0., 0., 0.],\n",
              "       [1., 0., 0., 0., 0.],\n",
              "       ...,\n",
              "       [1., 0., 0., 0., 0.],\n",
              "       [1., 0., 0., 0., 0.],\n",
              "       [1., 0., 0., 0., 0.]])"
            ]
          },
          "metadata": {
            "tags": []
          },
          "execution_count": 47
        }
      ]
    },
    {
      "cell_type": "code",
      "metadata": {
        "id": "r77BE44XkTHu",
        "colab": {
          "base_uri": "https://localhost:8080/",
          "height": 140
        },
        "outputId": "7b8cba3d-eefe-46fd-a58d-45ae32e9abdd"
      },
      "source": [
        "print(Y_pred)"
      ],
      "execution_count": null,
      "outputs": [
        {
          "output_type": "stream",
          "text": [
            "[[9.9898964e-01 5.1735959e-04 3.2429825e-04 1.4705033e-04 2.1684962e-05]\n",
            " [9.9898964e-01 5.1735959e-04 3.2429825e-04 1.4705033e-04 2.1684962e-05]\n",
            " [9.9898964e-01 5.1735959e-04 3.2429825e-04 1.4705033e-04 2.1684962e-05]\n",
            " ...\n",
            " [9.1688997e-01 7.9047635e-02 2.8531197e-03 2.7869965e-04 9.3061093e-04]\n",
            " [9.1721249e-01 7.8725420e-02 2.8535707e-03 2.7745505e-04 9.3104836e-04]\n",
            " [9.1702849e-01 7.8911766e-02 2.8513500e-03 2.7797566e-04 9.3042001e-04]]\n"
          ],
          "name": "stdout"
        }
      ]
    },
    {
      "cell_type": "code",
      "metadata": {
        "id": "jXQimg4OMw36"
      },
      "source": [
        "Y_edited = np.zeros_like(Y_pred)\n",
        "Y_edited[np.arange(len(Y_pred)), Y_pred.argmax(1)] = 1"
      ],
      "execution_count": null,
      "outputs": []
    },
    {
      "cell_type": "code",
      "metadata": {
        "id": "lP_HdS9aVop2",
        "colab": {
          "base_uri": "https://localhost:8080/",
          "height": 140
        },
        "outputId": "361b584d-7d39-4ba7-9df4-5f12fa0bb923"
      },
      "source": [
        "print(Y_edited)"
      ],
      "execution_count": null,
      "outputs": [
        {
          "output_type": "stream",
          "text": [
            "[[1. 0. 0. 0. 0.]\n",
            " [1. 0. 0. 0. 0.]\n",
            " [1. 0. 0. 0. 0.]\n",
            " ...\n",
            " [1. 0. 0. 0. 0.]\n",
            " [1. 0. 0. 0. 0.]\n",
            " [1. 0. 0. 0. 0.]]\n"
          ],
          "name": "stdout"
        }
      ]
    },
    {
      "cell_type": "code",
      "metadata": {
        "id": "iGsOBkbiLRAE",
        "colab": {
          "base_uri": "https://localhost:8080/",
          "height": 34
        },
        "outputId": "8b9dfe68-9e2c-41e3-9e8d-8832e4ad5e35"
      },
      "source": [
        "Y_edited.shape"
      ],
      "execution_count": null,
      "outputs": [
        {
          "output_type": "execute_result",
          "data": {
            "text/plain": [
              "(8000, 5)"
            ]
          },
          "metadata": {
            "tags": []
          },
          "execution_count": 51
        }
      ]
    },
    {
      "cell_type": "code",
      "metadata": {
        "id": "his0wJ__0D0H",
        "colab": {
          "base_uri": "https://localhost:8080/",
          "height": 34
        },
        "outputId": "6d166c3c-9e0d-4012-9b03-a7812de60934"
      },
      "source": [
        "#f-measure check\n",
        "from sklearn.metrics import f1_score\n",
        "f1_score(Y_padded_test,Y_edited, average='micro')"
      ],
      "execution_count": null,
      "outputs": [
        {
          "output_type": "execute_result",
          "data": {
            "text/plain": [
              "0.36687500000000006"
            ]
          },
          "metadata": {
            "tags": []
          },
          "execution_count": 52
        }
      ]
    },
    {
      "cell_type": "code",
      "metadata": {
        "id": "oDGyTpQQFD6I",
        "colab": {
          "base_uri": "https://localhost:8080/",
          "height": 34
        },
        "outputId": "423ad117-c0fa-4a84-f436-4190b83120ac"
      },
      "source": [
        "Y_padded_test[7999][4]"
      ],
      "execution_count": null,
      "outputs": [
        {
          "output_type": "execute_result",
          "data": {
            "text/plain": [
              "0.0"
            ]
          },
          "metadata": {
            "tags": []
          },
          "execution_count": 53
        }
      ]
    },
    {
      "cell_type": "markdown",
      "metadata": {
        "id": "1By5GF7FxVq_"
      },
      "source": [
        "Evaluation Code"
      ]
    },
    {
      "cell_type": "code",
      "metadata": {
        "id": "_ZBw8LzfKATX",
        "colab": {
          "base_uri": "https://localhost:8080/",
          "height": 34
        },
        "outputId": "5436f25e-a74a-4775-95ce-8147cec9a5ed"
      },
      "source": [
        "evaluation=model.evaluate(X_test_features_extracted,Y_padded_test,batch_size=128)"
      ],
      "execution_count": null,
      "outputs": [
        {
          "output_type": "stream",
          "text": [
            "63/63 [==============================] - 1s 13ms/step - loss: 2.9274 - accuracy: 0.3669\n"
          ],
          "name": "stdout"
        }
      ]
    },
    {
      "cell_type": "code",
      "metadata": {
        "id": "hxfM1mHmKgqA",
        "colab": {
          "base_uri": "https://localhost:8080/",
          "height": 34
        },
        "outputId": "d19c96e7-dbf2-445e-efbf-5d6c7f5600de"
      },
      "source": [
        "evaluation"
      ],
      "execution_count": null,
      "outputs": [
        {
          "output_type": "execute_result",
          "data": {
            "text/plain": [
              "[2.927428960800171, 0.3668749928474426]"
            ]
          },
          "metadata": {
            "tags": []
          },
          "execution_count": 55
        }
      ]
    },
    {
      "cell_type": "code",
      "metadata": {
        "id": "nr-TFLb8FhlZ"
      },
      "source": [
        "resulting_frames_actual=[]\n",
        "resulting_frames_predicted=[]"
      ],
      "execution_count": null,
      "outputs": []
    },
    {
      "cell_type": "code",
      "metadata": {
        "id": "axzR_4w4xY_P"
      },
      "source": [
        "for i in range(8000):\n",
        "  if (Y_padded_test[i][3]==1 or Y_padded_test[i][4]==1):\n",
        "    resulting_frames_actual.append(i)"
      ],
      "execution_count": null,
      "outputs": []
    },
    {
      "cell_type": "code",
      "metadata": {
        "id": "9_52PmNDeSUx"
      },
      "source": [
        "column_names = [\"Video_Number\", \"Frame_count\", \"Timestamp\"]\n",
        "Frame_video_actual = pd.DataFrame(columns = column_names)\n",
        "\n",
        "for i in resulting_frames_actual:\n",
        "  Frame_video_actual = Frame_video_actual.append(Frame_data.loc[25044 + i ])"
      ],
      "execution_count": null,
      "outputs": []
    },
    {
      "cell_type": "code",
      "metadata": {
        "id": "ajRuXEGFgOJk",
        "colab": {
          "base_uri": "https://localhost:8080/",
          "height": 34
        },
        "outputId": "2755c263-78cb-43a7-b706-f5d080fdf68a"
      },
      "source": [
        "len(Frame_video_actual)"
      ],
      "execution_count": null,
      "outputs": [
        {
          "output_type": "execute_result",
          "data": {
            "text/plain": [
              "980"
            ]
          },
          "metadata": {
            "tags": []
          },
          "execution_count": 59
        }
      ]
    },
    {
      "cell_type": "code",
      "metadata": {
        "id": "BJj_1EqyF_DD",
        "colab": {
          "base_uri": "https://localhost:8080/",
          "height": 34
        },
        "outputId": "d51b6b44-5c55-4630-a2eb-aaf0d685f89f"
      },
      "source": [
        "len(resulting_frames_actual)"
      ],
      "execution_count": null,
      "outputs": [
        {
          "output_type": "execute_result",
          "data": {
            "text/plain": [
              "980"
            ]
          },
          "metadata": {
            "tags": []
          },
          "execution_count": 60
        }
      ]
    },
    {
      "cell_type": "code",
      "metadata": {
        "id": "fo4JKBiMy53B"
      },
      "source": [
        "for i in range(8000):\n",
        "  if (Y_edited[i][3]==1 or Y_edited[i][4]==1):\n",
        "    resulting_frames_predicted.append(i)"
      ],
      "execution_count": null,
      "outputs": []
    },
    {
      "cell_type": "code",
      "metadata": {
        "id": "5uqiVqTMgHEu"
      },
      "source": [
        "column_names = [\"Video_Number\", \"Frame_count\", \"Timestamp\"]\n",
        "Frame_video_pred = pd.DataFrame(columns = column_names)\n",
        "\n",
        "for i in resulting_frames_predicted:\n",
        "  Frame_video_pred = Frame_video_pred.append(Frame_data.loc[25044 + i ])"
      ],
      "execution_count": null,
      "outputs": []
    },
    {
      "cell_type": "code",
      "metadata": {
        "id": "pLgLPC1IgTDY",
        "colab": {
          "base_uri": "https://localhost:8080/",
          "height": 195
        },
        "outputId": "79738540-6dae-4275-f7a1-ead3f677db09"
      },
      "source": [
        "Frame_video_pred.head()"
      ],
      "execution_count": null,
      "outputs": [
        {
          "output_type": "execute_result",
          "data": {
            "text/html": [
              "<div>\n",
              "<style scoped>\n",
              "    .dataframe tbody tr th:only-of-type {\n",
              "        vertical-align: middle;\n",
              "    }\n",
              "\n",
              "    .dataframe tbody tr th {\n",
              "        vertical-align: top;\n",
              "    }\n",
              "\n",
              "    .dataframe thead th {\n",
              "        text-align: right;\n",
              "    }\n",
              "</style>\n",
              "<table border=\"1\" class=\"dataframe\">\n",
              "  <thead>\n",
              "    <tr style=\"text-align: right;\">\n",
              "      <th></th>\n",
              "      <th>Video_Number</th>\n",
              "      <th>Frame_count</th>\n",
              "      <th>Timestamp</th>\n",
              "    </tr>\n",
              "  </thead>\n",
              "  <tbody>\n",
              "    <tr>\n",
              "      <th>25059</th>\n",
              "      <td>6.0</td>\n",
              "      <td>25060.0</td>\n",
              "      <td>0.500500</td>\n",
              "    </tr>\n",
              "    <tr>\n",
              "      <th>25061</th>\n",
              "      <td>6.0</td>\n",
              "      <td>25062.0</td>\n",
              "      <td>0.567233</td>\n",
              "    </tr>\n",
              "    <tr>\n",
              "      <th>25062</th>\n",
              "      <td>6.0</td>\n",
              "      <td>25063.0</td>\n",
              "      <td>0.600600</td>\n",
              "    </tr>\n",
              "    <tr>\n",
              "      <th>25064</th>\n",
              "      <td>6.0</td>\n",
              "      <td>25065.0</td>\n",
              "      <td>0.667333</td>\n",
              "    </tr>\n",
              "    <tr>\n",
              "      <th>25203</th>\n",
              "      <td>6.0</td>\n",
              "      <td>25204.0</td>\n",
              "      <td>5.305300</td>\n",
              "    </tr>\n",
              "  </tbody>\n",
              "</table>\n",
              "</div>"
            ],
            "text/plain": [
              "       Video_Number  Frame_count  Timestamp\n",
              "25059           6.0      25060.0   0.500500\n",
              "25061           6.0      25062.0   0.567233\n",
              "25062           6.0      25063.0   0.600600\n",
              "25064           6.0      25065.0   0.667333\n",
              "25203           6.0      25204.0   5.305300"
            ]
          },
          "metadata": {
            "tags": []
          },
          "execution_count": 65
        }
      ]
    },
    {
      "cell_type": "code",
      "metadata": {
        "id": "-KEfMZ7nGTac",
        "colab": {
          "base_uri": "https://localhost:8080/",
          "height": 34
        },
        "outputId": "e370c4a2-eda4-4814-ff24-132e1d1f1eee"
      },
      "source": [
        "len(resulting_frames_predicted)"
      ],
      "execution_count": null,
      "outputs": [
        {
          "output_type": "execute_result",
          "data": {
            "text/plain": [
              "688"
            ]
          },
          "metadata": {
            "tags": []
          },
          "execution_count": 66
        }
      ]
    },
    {
      "cell_type": "markdown",
      "metadata": {
        "id": "o5WlLw5bixUc"
      },
      "source": [
        "Confusion Matrix"
      ]
    },
    {
      "cell_type": "code",
      "metadata": {
        "id": "cxziAbWki0Cn"
      },
      "source": [
        "from sklearn.metrics import confusion_matrix\n",
        "cm= confusion_matrix(Y_padded_test.argmax(1),Y_edited.argmax(1))"
      ],
      "execution_count": null,
      "outputs": []
    },
    {
      "cell_type": "code",
      "metadata": {
        "id": "mfMVo6ZhkFdb",
        "colab": {
          "base_uri": "https://localhost:8080/",
          "height": 34
        },
        "outputId": "bb115946-674d-47ac-b8b4-717db6dbc0c1"
      },
      "source": [
        "cm.shape"
      ],
      "execution_count": null,
      "outputs": [
        {
          "output_type": "execute_result",
          "data": {
            "text/plain": [
              "(5, 5)"
            ]
          },
          "metadata": {
            "tags": []
          },
          "execution_count": 68
        }
      ]
    },
    {
      "cell_type": "code",
      "metadata": {
        "id": "phI-97BbjMi-",
        "colab": {
          "base_uri": "https://localhost:8080/",
          "height": 313
        },
        "outputId": "df924f16-c4f5-458e-f347-1f0583cda995"
      },
      "source": [
        "import seaborn as sns\n",
        "ax=plt.subplot()\n",
        "sns.heatmap(cm, annot=True, ax=ax)\n",
        "ax.set_xlabel('Predicted Label')\n",
        "ax.set_ylabel('True Label')\n",
        "ax.set_title('Confusion Matrix')"
      ],
      "execution_count": null,
      "outputs": [
        {
          "output_type": "execute_result",
          "data": {
            "text/plain": [
              "Text(0.5, 1.0, 'Confusion Matrix')"
            ]
          },
          "metadata": {
            "tags": []
          },
          "execution_count": 69
        },
        {
          "output_type": "display_data",
          "data": {
            "image/png": "[encoded data removed]",
            "text/plain": [
              "<Figure size 432x288 with 2 Axes>"
            ]
          },
          "metadata": {
            "tags": [],
            "needs_background": "light"
          }
        }
      ]
    },
    {
      "cell_type": "code",
      "metadata": {
        "id": "LqEJPa8EGdRX"
      },
      "source": [
        "from sklearn.metrics import classification_report\n",
        "# show a nicely formatted classification report\n",
        "print(classification_report(Y_padded_test, Y_edited))"
      ],
      "execution_count": null,
      "outputs": []
    },
    {
      "cell_type": "code",
      "metadata": {
        "id": "Pjx-2uDAjLX2"
      },
      "source": [
        ""
      ],
      "execution_count": null,
      "outputs": []
    },
    {
      "cell_type": "code",
      "metadata": {
        "id": "5E7dOV318IMc"
      },
      "source": [
        ""
      ],
      "execution_count": null,
      "outputs": []
    },
    {
      "cell_type": "code",
      "metadata": {
        "id": "27UcL4f_8ILG"
      },
      "source": [
        ""
      ],
      "execution_count": null,
      "outputs": []
    },
    {
      "cell_type": "code",
      "metadata": {
        "id": "9P1R706F80rt"
      },
      "source": [
        ""
      ],
      "execution_count": null,
      "outputs": []
    },
    {
      "cell_type": "code",
      "metadata": {
        "id": "w0wtrEIY8IGc"
      },
      "source": [
        "from keras.models import Sequential\n",
        "from keras.layers import Dense, Dropout, Flatten\n",
        "from keras.layers import Conv2D, MaxPooling2D\n",
        "from keras import backend as K\n",
        "from keras.layers import DepthwiseConv2D,BatchNormalization, Activation,Input,MaxPool2D\n",
        "#VGG with Mobilenet\n",
        "model = Sequential()\n",
        "\n",
        "####################################VGG16 original######################################################################\n",
        "#model.add(Conv2D(input_shape=(224,224,3),filters=64,kernel_size=(3,3),padding=\"same\", activation=\"relu\"))\n",
        "#model.add(Conv2D(filters=64,kernel_size=(3,3),padding=\"same\", activation=\"relu\"))\n",
        "#model.add(MaxPool2D(pool_size=(2,2),strides=(2,2)))\n",
        "#model.add(Conv2D(filters=128, kernel_size=(3,3), padding=\"same\", activation=\"relu\"))\n",
        "#model.add(Conv2D(filters=128, kernel_size=(3,3), padding=\"same\", activation=\"relu\"))\n",
        "#model.add(MaxPool2D(pool_size=(2,2),strides=(2,2)))\n",
        "#model.add(Conv2D(filters=256, kernel_size=(3,3), padding=\"same\", activation=\"relu\"))\n",
        "#model.add(Conv2D(filters=256, kernel_size=(3,3), padding=\"same\", activation=\"relu\"))\n",
        "#model.add(Conv2D(filters=256, kernel_size=(3,3), padding=\"same\", activation=\"relu\"))\n",
        "#model.add(MaxPool2D(pool_size=(2,2),strides=(2,2)))\n",
        "#model.add(Conv2D(filters=512, kernel_size=(3,3), padding=\"same\", activation=\"relu\"))\n",
        "#model.add(Conv2D(filters=512, kernel_size=(3,3), padding=\"same\", activation=\"relu\"))\n",
        "#model.add(Conv2D(filters=512, kernel_size=(3,3), padding=\"same\", activation=\"relu\"))\n",
        "#model.add(MaxPool2D(pool_size=(2,2),strides=(2,2)))\n",
        "#model.add(Conv2D(filters=512, kernel_size=(3,3), padding=\"same\", activation=\"relu\"))\n",
        "#model.add(Conv2D(filters=512, kernel_size=(3,3), padding=\"same\", activation=\"relu\"))\n",
        "#model.add(Conv2D(filters=512, kernel_size=(3,3), padding=\"same\", activation=\"relu\"))\n",
        "#model.add(MaxPool2D(pool_size=(2,2),strides=(2,2)))\n",
        "########################################################################################################\n",
        "\n",
        "##############################VGG using Mobilenet##########################################################\n",
        "####################### 1st Conv ############################################################################\n",
        "model.add(Conv2D(64, kernel_size=(3, 3),activation='relu', input_shape=(224,224,3)))\n",
        "######################## 2nd Conv (Seperable) ##########################################################################\n",
        "model.add(DepthwiseConv2D(kernel_size=(3,3),strides=(2,2),use_bias=False,padding='same',name='Dept_1a'))\n",
        "model.add(BatchNormalization(name='BN_1.1a'))\n",
        "model.add(Activation('relu', name='Act_1.1a'))\n",
        "model.add(Conv2D(64,kernel_size=(1,1),strides=(1,1), use_bias=False,padding='same', name='Point_1a'))\n",
        "model.add(BatchNormalization(name='BN_1.2a'))\n",
        "model.add(Activation('relu', name='Act_1.2a'))\n",
        "##################################### 3nrd Conv #########################################################\n",
        "model.add(MaxPool2D(pool_size=(2,2), strides=(2,2), name='Max_Pool_1'))\n",
        "model.add(DepthwiseConv2D(kernel_size=(3,3),strides=(2,2), use_bias= False, padding='same', name='Dept_2a'))\n",
        "model.add(BatchNormalization(name='BN_2.1a'))\n",
        "model.add(Activation('relu', name='Act_2.1a'))\n",
        "model.add(Conv2D(128, kernel_size=(1,1), strides=(1,1), use_bias=False, padding='same', name='Point_2a'))\n",
        "model.add(BatchNormalization(name='BN_2.2a'))\n",
        "model.add(Activation('relu', name='Act_2.2a'))\n",
        "##################################### 4th Conv #########################################################\n",
        "model.add(DepthwiseConv2D(kernel_size=(3,3),strides=(2,2), use_bias= False, padding='same', name='Dept_2b'))\n",
        "model.add(BatchNormalization(name='BN_2.1b'))\n",
        "model.add(Activation('relu', name='Act_2.1b'))\n",
        "model.add(Conv2D(128, kernel_size=(1,1), strides=(1,1), use_bias=False, padding='same', name='Point_2b'))\n",
        "model.add(BatchNormalization(name='BN_2.2b'))\n",
        "model.add(Activation('relu', name='Act_2.2b'))\n",
        "##################################### 5th Conv #########################################################\n",
        "model.add(MaxPool2D(pool_size=(2,2), strides=(2,2), name='Max_Pool_2'))"
      ],
      "execution_count": null,
      "outputs": []
    },
    {
      "cell_type": "code",
      "metadata": {
        "id": "LSpw3rNC8Xzg",
        "colab": {
          "base_uri": "https://localhost:8080/",
          "height": 1000
        },
        "outputId": "ac223315-37b5-4747-e64d-c86f66dc65b4"
      },
      "source": [
        "\n",
        "import keras\n",
        "model.add(Dense(10, activation='softmax'))\n",
        "\n",
        "model.compile(loss=keras.losses.categorical_crossentropy,\n",
        "              optimizer=keras.optimizers.Adadelta(),\n",
        "              metrics=['accuracy'])\n",
        "model.summary()"
      ],
      "execution_count": null,
      "outputs": [
        {
          "output_type": "stream",
          "text": [
            "Model: \"sequential_3\"\n",
            "_________________________________________________________________\n",
            "Layer (type)                 Output Shape              Param #   \n",
            "=================================================================\n",
            "conv2d_1 (Conv2D)            (None, 222, 222, 64)      1792      \n",
            "_________________________________________________________________\n",
            "Dept_1a (DepthwiseConv2D)    (None, 111, 111, 64)      576       \n",
            "_________________________________________________________________\n",
            "BN_1.1a (BatchNormalization) (None, 111, 111, 64)      256       \n",
            "_________________________________________________________________\n",
            "Act_1.1a (Activation)        (None, 111, 111, 64)      0         \n",
            "_________________________________________________________________\n",
            "Point_1a (Conv2D)            (None, 111, 111, 64)      4096      \n",
            "_________________________________________________________________\n",
            "BN_1.2a (BatchNormalization) (None, 111, 111, 64)      256       \n",
            "_________________________________________________________________\n",
            "Act_1.2a (Activation)        (None, 111, 111, 64)      0         \n",
            "_________________________________________________________________\n",
            "Max_Pool_1 (MaxPooling2D)    (None, 55, 55, 64)        0         \n",
            "_________________________________________________________________\n",
            "Dept_2a (DepthwiseConv2D)    (None, 28, 28, 64)        576       \n",
            "_________________________________________________________________\n",
            "BN_2.1a (BatchNormalization) (None, 28, 28, 64)        256       \n",
            "_________________________________________________________________\n",
            "Act_2.1a (Activation)        (None, 28, 28, 64)        0         \n",
            "_________________________________________________________________\n",
            "Point_2a (Conv2D)            (None, 28, 28, 128)       8192      \n",
            "_________________________________________________________________\n",
            "BN_2.2a (BatchNormalization) (None, 28, 28, 128)       512       \n",
            "_________________________________________________________________\n",
            "Act_2.2a (Activation)        (None, 28, 28, 128)       0         \n",
            "_________________________________________________________________\n",
            "Dept_2b (DepthwiseConv2D)    (None, 14, 14, 128)       1152      \n",
            "_________________________________________________________________\n",
            "BN_2.1b (BatchNormalization) (None, 14, 14, 128)       512       \n",
            "_________________________________________________________________\n",
            "Act_2.1b (Activation)        (None, 14, 14, 128)       0         \n",
            "_________________________________________________________________\n",
            "Point_2b (Conv2D)            (None, 14, 14, 128)       16384     \n",
            "_________________________________________________________________\n",
            "BN_2.2b (BatchNormalization) (None, 14, 14, 128)       512       \n",
            "_________________________________________________________________\n",
            "Act_2.2b (Activation)        (None, 14, 14, 128)       0         \n",
            "_________________________________________________________________\n",
            "Max_Pool_2 (MaxPooling2D)    (None, 7, 7, 128)         0         \n",
            "_________________________________________________________________\n",
            "dense_1 (Dense)              (None, 7, 7, 10)          1290      \n",
            "_________________________________________________________________\n",
            "dense_2 (Dense)              (None, 7, 7, 10)          110       \n",
            "=================================================================\n",
            "Total params: 36,472\n",
            "Trainable params: 35,320\n",
            "Non-trainable params: 1,152\n",
            "_________________________________________________________________\n"
          ],
          "name": "stdout"
        }
      ]
    }
  ]
}